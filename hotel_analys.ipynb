{
 "cells": [
  {
   "cell_type": "code",
   "execution_count": 8,
   "metadata": {},
   "outputs": [
    {
     "name": "stdout",
     "output_type": "stream",
     "text": [
      "Nombre de colonnes : 36\n",
      "Exemple d'une ligne :\n",
      "hotel                                            Resort Hotel\n",
      "is_canceled                                                 0\n",
      "lead_time                                                 342\n",
      "arrival_date_year                                        2015\n",
      "arrival_date_month                                       July\n",
      "arrival_date_week_number                                   27\n",
      "arrival_date_day_of_month                                   1\n",
      "stays_in_weekend_nights                                     0\n",
      "stays_in_week_nights                                        0\n",
      "adults                                                      2\n",
      "children                                                  0.0\n",
      "babies                                                      0\n",
      "meal                                                       BB\n",
      "country                                                   PRT\n",
      "market_segment                                         Direct\n",
      "distribution_channel                                   Direct\n",
      "is_repeated_guest                                           0\n",
      "previous_cancellations                                      0\n",
      "previous_bookings_not_canceled                              0\n",
      "reserved_room_type                                          C\n",
      "assigned_room_type                                          C\n",
      "booking_changes                                             3\n",
      "deposit_type                                       No Deposit\n",
      "agent                                                     NaN\n",
      "company                                                   NaN\n",
      "days_in_waiting_list                                        0\n",
      "customer_type                                       Transient\n",
      "adr                                                       0.0\n",
      "required_car_parking_spaces                                 0\n",
      "total_of_special_requests                                   0\n",
      "reservation_status                                  Check-Out\n",
      "reservation_status_date                            2015-07-01\n",
      "name                                            Ernest Barnes\n",
      "email                             Ernest.Barnes31@outlook.com\n",
      "phone-number                                     669-792-1661\n",
      "credit_card                                  ************4322\n",
      "Name: 0, dtype: object\n"
     ]
    }
   ],
   "source": [
    "import pandas as pd\n",
    "from sklearn.preprocessing import StandardScaler\n",
    "\n",
    "\n",
    "# Charger le dataset\n",
    "chemin_fichier = \"C:/Users/ASUS VIVOBOOK X413J/Desktop/data/hotel_booking/hotel_booking.csv\"  # Remplacez par le chemin vers votre fichier\n",
    "df = pd.read_csv(chemin_fichier)\n",
    "\n",
    "# Afficher le nombre de colonnes\n",
    "print(f\"Nombre de colonnes : {df.shape[1]}\")\n",
    "\n",
    "# Afficher une ligne exemple\n",
    "print(\"Exemple d'une ligne :\")\n",
    "print(df.iloc[0])\n"
   ]
  },
  {
   "cell_type": "code",
   "execution_count": 9,
   "metadata": {},
   "outputs": [
    {
     "name": "stdout",
     "output_type": "stream",
     "text": [
      "Nombre de valeurs manquantes par colonne :\n",
      "children         4\n",
      "country        488\n",
      "agent        16340\n",
      "company     112593\n",
      "dtype: int64\n"
     ]
    }
   ],
   "source": [
    "# Vérifier les valeurs manquantes\n",
    "missing_values = df.isnull().sum()\n",
    "\n",
    "# Afficher les colonnes avec le nombre de valeurs manquantes\n",
    "print(\"Nombre de valeurs manquantes par colonne :\")\n",
    "print(missing_values[missing_values > 0])\n",
    "\n",
    "# Supprimer la colonne 'company'\n",
    "df = df.drop(columns=['company'])\n",
    "\n",
    "# Remplir les valeurs manquantes dans la colonne 'children' avec 0\n",
    "df['children'] = df['children'].fillna(0)"
   ]
  },
  {
   "cell_type": "code",
   "execution_count": 10,
   "metadata": {},
   "outputs": [
    {
     "name": "stdout",
     "output_type": "stream",
     "text": [
      "Empty DataFrame\n",
      "Columns: [hotel, is_canceled, lead_time, arrival_date_year, arrival_date_month, arrival_date_week_number, arrival_date_day_of_month, stays_in_weekend_nights, stays_in_week_nights, adults, children, babies, meal, country, market_segment, distribution_channel, is_repeated_guest, previous_cancellations, previous_bookings_not_canceled, reserved_room_type, assigned_room_type, booking_changes, deposit_type, agent, days_in_waiting_list, customer_type, adr, required_car_parking_spaces, total_of_special_requests, reservation_status, reservation_status_date, name, email, phone-number, credit_card]\n",
      "Index: []\n",
      "\n",
      "[0 rows x 35 columns]\n",
      "Nombre de lignes doublons :  0\n"
     ]
    }
   ],
   "source": [
    "# Vérifier les lignes dupliquées\n",
    "duplicates = df[df.duplicated()]\n",
    "\n",
    "# Afficher les lignes dupliquées\n",
    "print(duplicates)\n",
    "\n",
    "# Compter le nombre de doublons\n",
    "print(\"Nombre de lignes doublons : \", duplicates.shape[0])\n"
   ]
  },
  {
   "cell_type": "code",
   "execution_count": 11,
   "metadata": {},
   "outputs": [
    {
     "name": "stdout",
     "output_type": "stream",
     "text": [
      "count    119390.000000\n",
      "mean          0.370416\n",
      "std           0.482918\n",
      "min           0.000000\n",
      "25%           0.000000\n",
      "50%           0.000000\n",
      "75%           1.000000\n",
      "max           1.000000\n",
      "Name: is_canceled, dtype: float64\n"
     ]
    }
   ],
   "source": [
    "# Afficher les statistiques descriptives pour la colonne \"is_canceled\"\n",
    "print(df['is_canceled'].describe())\n"
   ]
  },
  {
   "cell_type": "code",
   "execution_count": 21,
   "metadata": {},
   "outputs": [
    {
     "name": "stdout",
     "output_type": "stream",
     "text": [
      "Index(['hotel', 'is_canceled', 'lead_time', 'arrival_date_year',\n",
      "       'arrival_date_month', 'arrival_date_week_number',\n",
      "       'arrival_date_day_of_month', 'stays_in_weekend_nights',\n",
      "       'stays_in_week_nights', 'adults', 'children', 'babies', 'meal',\n",
      "       'country', 'market_segment', 'distribution_channel',\n",
      "       'is_repeated_guest', 'previous_cancellations',\n",
      "       'previous_bookings_not_canceled', 'reserved_room_type',\n",
      "       'assigned_room_type', 'booking_changes', 'deposit_type', 'agent',\n",
      "       'days_in_waiting_list', 'customer_type', 'adr',\n",
      "       'required_car_parking_spaces', 'total_of_special_requests',\n",
      "       'reservation_status', 'reservation_status_date', 'total_nights',\n",
      "       'total_guests', 'cancellation_rate', 'lead_time_bins'],\n",
      "      dtype='object')\n",
      "          hotel  is_canceled  lead_time  arrival_date_year arrival_date_month  \\\n",
      "0  Resort Hotel            0        342               2015               July   \n",
      "1  Resort Hotel            0        737               2015               July   \n",
      "\n",
      "   arrival_date_week_number  arrival_date_day_of_month  \\\n",
      "0                        27                          1   \n",
      "1                        27                          1   \n",
      "\n",
      "   stays_in_weekend_nights  stays_in_week_nights  adults  children  babies  \\\n",
      "0                        0                     0       2       0.0       0   \n",
      "1                        0                     0       2       0.0       0   \n",
      "\n",
      "  meal country market_segment distribution_channel  is_repeated_guest  \\\n",
      "0   BB     PRT         Direct               Direct                  0   \n",
      "1   BB     PRT         Direct               Direct                  0   \n",
      "\n",
      "   previous_cancellations  previous_bookings_not_canceled reserved_room_type  \\\n",
      "0                       0                               0                  C   \n",
      "1                       0                               0                  C   \n",
      "\n",
      "  assigned_room_type  booking_changes deposit_type  agent  \\\n",
      "0                  C                3   No Deposit    NaN   \n",
      "1                  C                4   No Deposit    NaN   \n",
      "\n",
      "   days_in_waiting_list customer_type  adr  required_car_parking_spaces  \\\n",
      "0                     0     Transient  0.0                            0   \n",
      "1                     0     Transient  0.0                            0   \n",
      "\n",
      "   total_of_special_requests reservation_status reservation_status_date  \\\n",
      "0                          0          Check-Out              2015-07-01   \n",
      "1                          0          Check-Out              2015-07-01   \n",
      "\n",
      "   total_nights  total_guests  cancellation_rate lead_time_bins  \n",
      "0             0           2.0                0.0      très_long  \n",
      "1             0           2.0                0.0            NaN  \n"
     ]
    }
   ],
   "source": [
    "#  Création de nouvelles caractéristiques\n",
    "df['total_nights'] = df['stays_in_weekend_nights'] + df['stays_in_week_nights']\n",
    "df['total_guests'] = df['adults'] + df['children'] + df['babies']\n",
    "df['cancellation_rate'] = df['previous_cancellations'] / (df['previous_bookings_not_canceled'] + 1)\n",
    "\n",
    "#  Regroupement des variables numériques en classes (binning)\n",
    "df['lead_time_bins'] = pd.cut(\n",
    "    df['lead_time'], \n",
    "    bins=[0, 50, 100, 200, 500], \n",
    "    labels=['court', 'moyen', 'long', 'très_long']\n",
    ")\n",
    "\n",
    "print(df.columns)\n",
    "\n",
    "pd.set_option('display.max_columns', None)  # Afficher toutes les colonnes\n",
    "\n",
    "# Afficher les 2 premières lignes du DataFrame\n",
    "print(df.head(2))\n"
   ]
  }
 ],
 "metadata": {
  "kernelspec": {
   "display_name": "Python 3",
   "language": "python",
   "name": "python3"
  },
  "language_info": {
   "codemirror_mode": {
    "name": "ipython",
    "version": 3
   },
   "file_extension": ".py",
   "mimetype": "text/x-python",
   "name": "python",
   "nbconvert_exporter": "python",
   "pygments_lexer": "ipython3",
   "version": "3.13.0"
  }
 },
 "nbformat": 4,
 "nbformat_minor": 2
}
